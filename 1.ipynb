{
 "cells": [
  {
   "cell_type": "code",
   "execution_count": 245,
   "id": "2645fe57-f935-4b40-a385-f8b73a62eb39",
   "metadata": {
    "tags": []
   },
   "outputs": [],
   "source": [
    "import numpy as np\n",
    "import pandas as pd\n",
    "import sqlalchemy\n",
    "from sqlalchemy.engine import create_engine\n",
    "import pymysql"
   ]
  },
  {
   "cell_type": "code",
   "execution_count": 246,
   "id": "3a468653-413c-41a6-99d6-7cef30a84e2d",
   "metadata": {
    "tags": []
   },
   "outputs": [],
   "source": [
    "import pandas as pd\n",
    "from pyspark.sql.types import StructType, StructField, StringType, IntegerType, DoubleType\n",
    "from pyspark.sql import SparkSession"
   ]
  },
  {
   "cell_type": "code",
   "execution_count": 247,
   "id": "f72bc212-7d98-4825-923d-e21772f958ef",
   "metadata": {
    "tags": []
   },
   "outputs": [],
   "source": [
    "## preto读数据库\n",
    "def create_presto_engine():\n",
    "    conn = 'presto://reed-algo-offline-01:20080'\n",
    "    engine = create_engine(conn, poolclass=sqlalchemy.pool.NullPool)  #--connect_args={'username': null, 'password': null, 'group': null}\n",
    "    return engine\n",
    "engine = create_presto_engine()\n",
    "\n",
    "def read_hive(sql, pd_df_col=[]):  #--可选参数:df列名\n",
    "    # sql_ins = sql.format(date_y_m_d='1970-01-01', date='19700101')\n",
    "    # ndata = pd.read_sql(sql_ins, engine)\n",
    "    ndata = pd.read_sql(sql, engine)\n",
    "    if pd_df_col != []:\n",
    "        ndata.columns = pd_df_col\n",
    "    return ndata\n"
   ]
  },
  {
   "cell_type": "code",
   "execution_count": null,
   "id": "1d0f970e-ffd7-4817-8496-7a0afe5c0f63",
   "metadata": {},
   "outputs": [],
   "source": [
    "# 随机分组\n",
    "mart_reed_algo_ad.grouplive_algo_expcontrol_grouping_i_d\n",
    "# 算法分组\n",
    "mart_reed_algo_ad.grouplive_algo_expcontrol_subgrouping_i_d\n",
    "\n",
    "要把这个给考虑上"
   ]
  },
  {
   "cell_type": "code",
   "execution_count": 249,
   "id": "b6852a8f-53bd-4225-940e-6a9635f22623",
   "metadata": {},
   "outputs": [],
   "source": [
    "from datetime import datetime, timedelta\n",
    "living_dt = '2025-04-09'\n",
    "living_dt1 = (datetime.strptime(living_dt, '%Y-%m-%d') - timedelta(days=2)).strftime('%Y-%m-%d')\n",
    "living_dt7 = (datetime.strptime(living_dt, '%Y-%m-%d') - timedelta(days=7)).strftime('%Y-%m-%d')"
   ]
  },
  {
   "cell_type": "markdown",
   "id": "2b9f2e66-b72b-4ab8-8e93-f213fcc4d86a",
   "metadata": {},
   "source": [
    "## 读数"
   ]
  },
  {
   "cell_type": "code",
   "execution_count": 250,
   "id": "4db7677f-5f3b-4e00-8c33-edd1f6083157",
   "metadata": {
    "tags": []
   },
   "outputs": [],
   "source": [
    "### 数仓分组\n",
    "df_unionid = read_hive('''\n",
    "select t1.unionid, t1.dep_id,project_c_tag, is_friend, t1.invitor_userid, t1.dt, t2.shop_type\n",
    "FROM dws.dws_activity_brain_user_group_detail_result_1d_d t1\n",
    "left join dwd.dwd_user_user_detail_a_d t2\n",
    "on t1.unionid = t2.unionid\n",
    "WHERE t1.dt = (SELECT MAX(dt) FROM dws.dws_activity_brain_user_group_detail_result_1d_d)\n",
    "''')"
   ]
  },
  {
   "cell_type": "code",
   "execution_count": 251,
   "id": "cc0d057e-0c36-42d3-a603-17610e153637",
   "metadata": {
    "tags": []
   },
   "outputs": [
    {
     "data": {
      "text/plain": [
       "(3720137, 7)"
      ]
     },
     "execution_count": 251,
     "metadata": {},
     "output_type": "execute_result"
    }
   ],
   "source": [
    "df_unionid.shape"
   ]
  },
  {
   "cell_type": "code",
   "execution_count": 252,
   "id": "8c564f8a-1cc8-44f6-92b0-ce1d9bfdbff8",
   "metadata": {},
   "outputs": [
    {
     "data": {
      "text/plain": [
       "3720137"
      ]
     },
     "execution_count": 252,
     "metadata": {},
     "output_type": "execute_result"
    }
   ],
   "source": [
    "df_unionid.unionid.nunique()"
   ]
  },
  {
   "cell_type": "code",
   "execution_count": 254,
   "id": "6f4882ae-8ae0-4986-8261-9fecb2e01f64",
   "metadata": {},
   "outputs": [],
   "source": [
    "### 跟线统计\n",
    "\n",
    "df_unionid_followline = read_hive(f'''\n",
    "\n",
    "-- 团品直播id\n",
    "with tmp_livingid as \n",
    "(select \n",
    "cast(id as varchar) as living_id,\n",
    "cast(living_duration as double) as living_duration,\n",
    "market_scope,\n",
    "substr(living_start, 1, 10) as dt\n",
    "from \n",
    "dwd.dwd_live_polyv_living_info_a_d\n",
    "where \n",
    "(\n",
    "    (living_start >= '2025-03-03' and living_start <= '2025-03-20'\n",
    "    and viewer_num > 80000\n",
    "    and substr(living_start,12,2) in ('08','09','10','11')) \n",
    "    or\n",
    "    (living_start >= '2025-03-21' \n",
    "    and viewer_num > 10000\n",
    "    and substr(living_start,12,2) in ('08','09','10','11')\n",
    "    and has_command_center = 1 \n",
    "    and status = 2 and use_type = 1 \n",
    "    )\n",
    ")\n",
    " and (substr(living_start,1,10) between '{living_dt7}' and '{living_dt1}')\n",
    "),\n",
    "\n",
    "-- 参加直播的部门\n",
    "tmp_dep as (\n",
    "select \n",
    "dep_id, count(distinct unionid) as living_user_cnt\n",
    "from\n",
    "(select t2.unionid, dt, livingid, dep_id from\n",
    "(select unionid,livingid\n",
    "from dwd.dwd_live_living_stat_all_i_d where dt between '{living_dt7}' and '{living_dt1}' and unionid is not null) t2 \n",
    "inner join tmp_livingid t3\n",
    "on t2.livingid = t3.living_id\n",
    "left join \n",
    "(select unionid, dep_id  from dwd.dwd_user_user_detail_a_d  where unionid is not null) t4\n",
    "on t2.unionid = t4.unionid )\n",
    "group by dep_id\n",
    "),\n",
    "\n",
    "-- 部门过滤(去掉参加人数较少的门店，认为不是跟线门店)\n",
    "tmp_dep_filter as (\n",
    "select \n",
    "t1.dep_id\n",
    "--, living_user_cnt,total_user_cnt, cast(living_user_cnt as double)/cast(total_user_cnt as double) as living_rate\n",
    "from \n",
    "(select dep_id, living_user_cnt from tmp_dep) t1\n",
    "left join (select dep_id,count(distinct unionid) as total_user_cnt  from dws.dws_activity_brain_user_group_detail_result_1d_d where dt = (SELECT MAX(dt) FROM dws.dws_activity_brain_user_group_detail_result_1d_d)\n",
    "group by dep_id) t2\n",
    "on t1.dep_id = t2.dep_id\n",
    "where cast(living_user_cnt as double)/cast(total_user_cnt as double) >= 0.01 and living_user_cnt > 10\n",
    "),\n",
    "\n",
    "-- 非沉默用户\n",
    "tmp_unionid_active as (\n",
    "select unionid,dep_id from dwd.dwd_user_user_detail_a_d \n",
    "where cast(substr(video_add_time,1,10) as date) >= date_add('day', -30, date('{living_dt1}'))\n",
    "union all \n",
    "select unionid,depid dep_id\n",
    "from dwd.dwd_live_living_stat_all_i_d \n",
    "where dt between cast(date_add('day', -90, date('{living_dt1}')) as varchar) and '{living_dt1}'\n",
    "group by unionid,depid\n",
    ")\n",
    "\n",
    "-- 跟线非沉默用户\n",
    "select unionid, 1 as flag_followline \n",
    "from tmp_unionid_active t1 inner join tmp_dep_filter t2 on t1.dep_id = t2.dep_id\n",
    "group by unionid\n",
    "''')"
   ]
  },
  {
   "cell_type": "code",
   "execution_count": 253,
   "id": "70747730-d09d-4bc0-851e-2d18aec445fb",
   "metadata": {
    "tags": []
   },
   "outputs": [
    {
     "data": {
      "text/plain": [
       "(957151, 2)"
      ]
     },
     "execution_count": 253,
     "metadata": {},
     "output_type": "execute_result"
    }
   ],
   "source": [
    "df_unionid_followline.shape"
   ]
  },
  {
   "cell_type": "code",
   "execution_count": 279,
   "id": "d7db0880-74cf-486d-bce9-048c96fbfa75",
   "metadata": {
    "tags": []
   },
   "outputs": [],
   "source": [
    "### 跟线合并\n",
    "df_unionid = df_unionid.merge(df_unionid_followline, on = 'unionid', how='left')"
   ]
  },
  {
   "cell_type": "markdown",
   "id": "fcdc0838-909b-497f-9564-e4cfc707edc7",
   "metadata": {},
   "source": [
    "## 算法逻辑（目前为全推，后续要迭代）"
   ]
  },
  {
   "cell_type": "code",
   "execution_count": 280,
   "id": "2a1636b0-d5a2-4d01-be2b-fd32e351b651",
   "metadata": {
    "tags": []
   },
   "outputs": [],
   "source": [
    "### 算法分组\n",
    "np.random.seed(0)\n",
    "# 1. 对 project_c_tag = 'A' 的行随机分配 'exp1' 或 'exp2'\n",
    "mask_A = df_unionid['project_c_tag'] == 'A'\n",
    "df_unionid.loc[mask_A, 'project_c_subtag'] = np.random.choice(\n",
    "    ['exp1', 'exp2'], \n",
    "    size=mask_A.sum(),\n",
    "    p=[1, 0]\n",
    ")\n",
    "# 2. 其余行用 project_c_tag 填充\n",
    "df_unionid.loc[~mask_A, 'project_c_subtag'] = df_unionid.loc[~mask_A, 'project_c_tag']"
   ]
  },
  {
   "cell_type": "code",
   "execution_count": 281,
   "id": "91379727-234b-4fcb-9699-5ae028396f6b",
   "metadata": {
    "tags": []
   },
   "outputs": [],
   "source": [
    "### 模型排序结果\n",
    "df_unionid_modelrank = read_hive('''\n",
    "select unionid, prob_visit as model_prob from mart_reed_algo_ad.grouplive_model_yearshopping_pred_res \n",
    "''')\n",
    "df_unionid = df_unionid.merge(df_unionid_modelrank, on='unionid', how='left')\n",
    "df_unionid[\"prob_rank\"] = df_unionid.groupby(\"invitor_userid\")[\"model_prob\"].rank(method=\"first\", ascending=False)"
   ]
  },
  {
   "cell_type": "code",
   "execution_count": 183,
   "id": "37b8389f-3af7-4884-a2ad-222b8ad30f94",
   "metadata": {
    "tags": []
   },
   "outputs": [
    {
     "name": "stdout",
     "output_type": "stream",
     "text": [
      "(3720137, 11)\n",
      "3720137\n"
     ]
    }
   ],
   "source": [
    "print(df_unionid.shape)\n",
    "print(df_unionid.unionid.nunique())"
   ]
  },
  {
   "cell_type": "code",
   "execution_count": 282,
   "id": "cde4235c-48d2-4295-ad3d-7b01214c0f8d",
   "metadata": {
    "tags": []
   },
   "outputs": [],
   "source": [
    "### 预热、私聊打标\n",
    "# 预热打标\n",
    "df_unionid['flag_warmup'] = np.where(\n",
    "    (df_unionid['flag_followline'] == 1) & \n",
    "    (df_unionid['project_c_subtag'] == 'exp1') & \n",
    "    (df_unionid['shop_type'].isin([1, 2])),  \n",
    "    1, 0   \n",
    ")\n",
    "\n",
    "# 私聊打标\n",
    "df_unionid['flag_chat'] = np.where(\n",
    "    (df_unionid['flag_followline'] == 1) & \n",
    "    (df_unionid['project_c_subtag'] == 'exp1') & \n",
    "    (df_unionid['is_friend'] == 1) & \n",
    "    (df_unionid['shop_type'].isin([1, 2])), \n",
    "    1, 0   \n",
    ")"
   ]
  },
  {
   "cell_type": "code",
   "execution_count": 186,
   "id": "2d8d20ba-0309-4959-88fb-194a6072b662",
   "metadata": {},
   "outputs": [],
   "source": [
    "# ### 存表\n",
    "# df_unionid['partition_insert'] = pd.qcut(df_unionid.index, q=40, labels=False)\n",
    "# df_unionid = df_unionid[['unionid', 'group_name', 'subgroup_name','shop_type','flag_followline','qx_userid','partition_insert','dt_group',\n",
    "# 'live_cnt_count_7', 'video_action3_cnt_count_7','live_cnt_count_30', 'video_action3_cnt_count_30' ,'live_cnt_count_90', 'video_action3_cnt_count_90','dt_subgroup']]\n",
    "# from pyspark.sql import SparkSession\n",
    "# from pyspark.sql.types import StructType, StructField, StringType, IntegerType, DoubleType,FloatType\n",
    "# import time\n",
    "# schema = StructType([\n",
    "#     StructField(\"unionid\", StringType(), True),\n",
    "#     StructField(\"group_name\", StringType(), True),\n",
    "#     StructField(\"subgroup_name\", StringType(), True),\n",
    "#     StructField(\"shop_type\", FloatType(), True),\n",
    "#     StructField(\"flag_followline\", FloatType(), True),  \n",
    "#     StructField(\"qx_userid\", StringType(), True),\n",
    "#     StructField(\"partition_insert\", IntegerType(), True),\n",
    "#     StructField(\"dt_group\", StringType(), True),    \n",
    "#     StructField(\"live_cnt_count_7\", FloatType(), True),\n",
    "#     StructField(\"video_action3_cnt_count_7\", FloatType(), True),    \n",
    "#     StructField(\"live_cnt_count_30\", FloatType(), True),\n",
    "#     StructField(\"video_action3_cnt_count_30\", FloatType(), True),\n",
    "#     StructField(\"live_cnt_count_90\", FloatType(), True),\n",
    "#     StructField(\"video_action3_cnt_count_90\", FloatType(), True),\n",
    "#     StructField(\"dt_subgroup\", StringType(), True)\n",
    "# ])\n",
    "# grouped_df = df_data_split.groupby('partition_insert').size().reset_index(name='num')\n",
    "# spark = SparkSession.builder.appName('grouplive_app').enableHiveSupport()\\\n",
    "#     .config(\"hive.exec.dynamic.partition.mode\", \"nonstrict\")\\\n",
    "#     .getOrCreate()\n",
    "# for partition_insert in grouped_df['partition_insert']:\n",
    "#     # if partition_insert % 5 == 0:\n",
    "#     print(partition_insert)\n",
    "#     merged_df2=df_data_split[(df_data_split['partition_insert'] == partition_insert)]\n",
    "#     spark_df_model_result= spark.createDataFrame(merged_df2, schema=schema)\n",
    "#     spark_df_model_result.write.mode('append').format('hive').partitionBy('dt_subgroup').saveAsTable('mart_reed_algo_ad.grouplive_algo_expcontrol_subgrouping_i_d')\n",
    "# spark.stop()"
   ]
  },
  {
   "cell_type": "code",
   "execution_count": 187,
   "id": "d3faeccb-9e1b-40d5-8d6b-7a7865f78ad2",
   "metadata": {
    "tags": []
   },
   "outputs": [
    {
     "name": "stdout",
     "output_type": "stream",
     "text": [
      "mkdir: cannot create directory ‘/data1/zhangzhen/grouplive/2025-04-04/’: File exists\n"
     ]
    }
   ],
   "source": [
    "# 创建目录存放文件\n",
    "# ! mkdir /data1/zhangzhen/grouplive/2025-04-04/"
   ]
  },
  {
   "cell_type": "code",
   "execution_count": 188,
   "id": "e9937a9c-1d9b-4272-a51d-60612f5aac0d",
   "metadata": {
    "tags": []
   },
   "outputs": [],
   "source": [
    "# df_unionid.to_csv('/data1/zhangzhen/grouplive/2025-04-04/df_unionid_res.csv', index=False)"
   ]
  },
  {
   "cell_type": "code",
   "execution_count": null,
   "id": "e4c35ad2-1d01-4ebb-ad96-287bf762e440",
   "metadata": {},
   "outputs": [],
   "source": [
    "### 2025-04-02"
   ]
  },
  {
   "cell_type": "code",
   "execution_count": 234,
   "id": "ddee1507-b71b-42b7-9e00-f0076cc0d5a1",
   "metadata": {
    "tags": []
   },
   "outputs": [],
   "source": [
    "# df_unionid = pd.read_csv('/data1/zhangzhen/grouplive/2025-03-31/df_unionid_res.csv')"
   ]
  },
  {
   "cell_type": "markdown",
   "id": "8530745f-ce12-40dc-bcff-e22eab9a2207",
   "metadata": {
    "tags": []
   },
   "source": [
    "## 预热"
   ]
  },
  {
   "cell_type": "code",
   "execution_count": null,
   "id": "0fc059c8-e9c2-49af-8009-98289b3d5d5a",
   "metadata": {},
   "outputs": [],
   "source": []
  },
  {
   "cell_type": "code",
   "execution_count": 259,
   "id": "8b07355b-6415-4222-aff3-abd33977296a",
   "metadata": {
    "tags": []
   },
   "outputs": [],
   "source": [
    "living_dt = '2025-04-06'\n",
    "# 线上读直播间\n",
    "connection = pymysql.connect(host='pc-2ze5hgvv9n4uic10t.rwlb.rds.aliyuncs.com', port=3306,  user='zhangzhen', password='zhangzhen@53567', database='thrk', )\n",
    "with connection.cursor() as cursor:\n",
    "    sql = f'''\n",
    "    select t1.living_id, living_name, living_start, market_scope, shop_id from\n",
    "    (select id as living_id, name as living_name,living_start, market_scope\n",
    "    from thrk.polyv_living_info where substr(living_start,1,10) >= '{living_dt}' and substr(living_start,1,10) <= '{living_dt}' and status = 0 and has_command_center = 1 and use_type = 1 and dep_id = 955\n",
    "    ) t1\n",
    "    left join \n",
    "    (select living_id, shop_id from thrk.polyv_living_shop) t2\n",
    "    on t1.living_id = t2.living_id\n",
    "\n",
    "    '''\n",
    "    cursor.execute(sql)\n",
    "    result = cursor.fetchall()\n",
    "    columns = [desc[0] for desc in cursor.description]\n",
    "\n",
    "    df_living = pd.DataFrame(result, columns=columns)\n",
    "connection.close()\n"
   ]
  },
  {
   "cell_type": "code",
   "execution_count": 266,
   "id": "fa232f34-cf12-4b7e-85e6-968206aa479f",
   "metadata": {
    "tags": []
   },
   "outputs": [],
   "source": [
    "df_living = df_living.query('shop_id == shop_id')"
   ]
  },
  {
   "cell_type": "code",
   "execution_count": 267,
   "id": "e9c4eee4-cb10-4609-88c0-0e33d0c774b2",
   "metadata": {
    "tags": []
   },
   "outputs": [],
   "source": [
    "shop_ids = df_living['shop_id'].unique().tolist()\n",
    "shop_ids_str = \",\".join(map(str, shop_ids))"
   ]
  },
  {
   "cell_type": "code",
   "execution_count": 268,
   "id": "529df0e5-82a4-4ee2-9668-b0d4ac031a2e",
   "metadata": {
    "tags": []
   },
   "outputs": [],
   "source": [
    "# dep_id 对应\n",
    "\n",
    "df_shop_dep = read_hive(f'''\n",
    "SELECT\n",
    "      if(d1.parentid IN ({shop_ids_str}), d1.parentid,    \n",
    "        if(d2.parentid IN ({shop_ids_str}), d2.parentid,\n",
    "         if(d3.parentid IN ({shop_ids_str}), d3.parentid, \n",
    "          if(d4.parentid IN ({shop_ids_str}), d4.parentid, null)))) as shop_id,\n",
    "    d1.id dep_id\n",
    "FROM dim.dim_pub_qx_epartment d1\n",
    "LEFT JOIN dim.dim_pub_qx_epartment d2 ON d1.parentid = d2.id\n",
    "LEFT JOIN dim.dim_pub_qx_epartment d3 ON d2.parentid = d3.id\n",
    "LEFT JOIN dim.dim_pub_qx_epartment d4 ON d3.parentid = d4.id\n",
    "LEFT JOIN dim.dim_pub_qx_epartment d5 ON d4.parentid = d5.id\n",
    "WHERE (\n",
    "    d1.parentid IN ({shop_ids_str})\n",
    "    OR d2.parentid IN ({shop_ids_str})\n",
    "    OR d3.parentid IN ({shop_ids_str})\n",
    "    OR d4.parentid IN ({shop_ids_str})\n",
    ")\n",
    "AND COALESCE(d1.is_del, 0) = 0\n",
    "AND d1.delete_time IS NULL\n",
    "''')"
   ]
  },
  {
   "cell_type": "code",
   "execution_count": 270,
   "id": "98571bb6-ae0b-4e4a-8155-fb9155288707",
   "metadata": {
    "tags": []
   },
   "outputs": [],
   "source": [
    "# 直播间部门关联\n",
    "df_living = df_living.merge(df_shop_dep, on='shop_id', how='left')"
   ]
  },
  {
   "cell_type": "code",
   "execution_count": 272,
   "id": "d418e77f-324c-4e22-82c2-ed2e25a2e9b4",
   "metadata": {
    "tags": []
   },
   "outputs": [],
   "source": [
    "# 预热视频\n",
    "connection = pymysql.connect(host='pc-2ze5hgvv9n4uic10t.rwlb.rds.aliyuncs.com', port=3306,  user='zhangzhen', password='zhangzhen@53567', database='thrk', )\n",
    "with connection.cursor() as cursor:\n",
    "    sql = f'''\n",
    "    select t1.living_id, t3.video_id, label_id,video_duration from\n",
    "    (select id as living_id, name as living_name,living_start, market_scope\n",
    "    from thrk.polyv_living_info where substr(living_start,1,10) >= '{living_dt}' and substr(living_start,1,10) <= '{living_dt}' and status = 0 and has_command_center = 1 and use_type = 1 and dep_id = 955\n",
    "    ) t1\n",
    "    \n",
    "    inner join\n",
    "    (select id, polyv_id  from newplatform.polyv_subscribe_rule_config where valid = 1) t2\n",
    "    on t1.living_id = t2.polyv_id\n",
    "    \n",
    "    left join \n",
    "    (select subscribe_id, video_id from newplatform.polyv_video_relation where valid = 1) t3\n",
    "    on t2.id = t3.subscribe_id\n",
    "    \n",
    "    left join\n",
    "    -- 504-合集 505-单品\n",
    "    (select video_id, label_id from newplatform.video_label_relation) t4\n",
    "    on t3.video_id = t4.video_id   \n",
    "    \n",
    "    left join\n",
    "    (select id, seconds as video_duration from newplatform.v2_rui_video where substr(create_time,1,10)>= '2025-03-21') t5\n",
    "    on t3.video_id = t5.id      \n",
    "\n",
    "\n",
    "\n",
    "    '''\n",
    "    cursor.execute(sql)\n",
    "    result = cursor.fetchall()\n",
    "    columns = [desc[0] for desc in cursor.description]\n",
    "\n",
    "    df_living_video = pd.DataFrame(result, columns=columns)\n",
    "connection.close()\n"
   ]
  },
  {
   "cell_type": "code",
   "execution_count": 273,
   "id": "0eb49d72-7679-41b7-864e-481978545eb1",
   "metadata": {
    "tags": []
   },
   "outputs": [
    {
     "data": {
      "text/html": [
       "<div>\n",
       "<style scoped>\n",
       "    .dataframe tbody tr th:only-of-type {\n",
       "        vertical-align: middle;\n",
       "    }\n",
       "\n",
       "    .dataframe tbody tr th {\n",
       "        vertical-align: top;\n",
       "    }\n",
       "\n",
       "    .dataframe thead th {\n",
       "        text-align: right;\n",
       "    }\n",
       "</style>\n",
       "<table border=\"1\" class=\"dataframe\">\n",
       "  <thead>\n",
       "    <tr style=\"text-align: right;\">\n",
       "      <th></th>\n",
       "      <th>living_id</th>\n",
       "      <th>video_id</th>\n",
       "      <th>label_id</th>\n",
       "      <th>video_duration</th>\n",
       "    </tr>\n",
       "  </thead>\n",
       "  <tbody>\n",
       "    <tr>\n",
       "      <th>0</th>\n",
       "      <td>36786</td>\n",
       "      <td>111681</td>\n",
       "      <td>505</td>\n",
       "      <td>45</td>\n",
       "    </tr>\n",
       "    <tr>\n",
       "      <th>1</th>\n",
       "      <td>36786</td>\n",
       "      <td>111680</td>\n",
       "      <td>505</td>\n",
       "      <td>46</td>\n",
       "    </tr>\n",
       "    <tr>\n",
       "      <th>2</th>\n",
       "      <td>36788</td>\n",
       "      <td>111679</td>\n",
       "      <td>505</td>\n",
       "      <td>15</td>\n",
       "    </tr>\n",
       "  </tbody>\n",
       "</table>\n",
       "</div>"
      ],
      "text/plain": [
       "   living_id  video_id  label_id  video_duration\n",
       "0      36786    111681       505              45\n",
       "1      36786    111680       505              46\n",
       "2      36788    111679       505              15"
      ]
     },
     "execution_count": 273,
     "metadata": {},
     "output_type": "execute_result"
    }
   ],
   "source": [
    "df_living_video"
   ]
  },
  {
   "cell_type": "code",
   "execution_count": 274,
   "id": "f1d53558-fb79-4e5b-a4fb-a1c60bf435b0",
   "metadata": {
    "tags": []
   },
   "outputs": [],
   "source": [
    "df_living_video = df_living_video.sort_values(by = ['label_id', 'video_duration'], ascending=[True, False])\n",
    "df_living_video = df_living_video.merge(df_living, on='living_id', how='left')\n",
    "from datetime import datetime, timedelta\n",
    "def func_video(x):\n",
    "    d = {}\n",
    "    d['market_scope'] = x.iloc[0].market_scope\n",
    "    d['video_format'] = ','.join([str(video_id) for video_id in x.video_id])\n",
    "    previous_day = x.iloc[0].living_start -  timedelta(days=1)\n",
    "    current_time_str = x.iloc[0].living_start.strftime('%Y%m%d%H%M')\n",
    "    previous_time_str = previous_day.strftime('%Y%m%d%H%M')\n",
    "    d['dt_format'] = f\"{previous_time_str}_{current_time_str}\"\n",
    "    return pd.Series(d, index=d.keys())\n",
    "df_living_warmup = df_living_video.groupby(['living_id', 'dep_id']).apply(func_video).reset_index()"
   ]
  },
  {
   "cell_type": "code",
   "execution_count": 275,
   "id": "dae74e1f-02f4-4dd1-b834-43267dac1de7",
   "metadata": {
    "tags": []
   },
   "outputs": [
    {
     "data": {
      "text/html": [
       "<div>\n",
       "<style scoped>\n",
       "    .dataframe tbody tr th:only-of-type {\n",
       "        vertical-align: middle;\n",
       "    }\n",
       "\n",
       "    .dataframe tbody tr th {\n",
       "        vertical-align: top;\n",
       "    }\n",
       "\n",
       "    .dataframe thead th {\n",
       "        text-align: right;\n",
       "    }\n",
       "</style>\n",
       "<table border=\"1\" class=\"dataframe\">\n",
       "  <thead>\n",
       "    <tr style=\"text-align: right;\">\n",
       "      <th></th>\n",
       "      <th>living_id</th>\n",
       "      <th>dep_id</th>\n",
       "      <th>market_scope</th>\n",
       "      <th>video_format</th>\n",
       "      <th>dt_format</th>\n",
       "    </tr>\n",
       "  </thead>\n",
       "  <tbody>\n",
       "    <tr>\n",
       "      <th>0</th>\n",
       "      <td>36786</td>\n",
       "      <td>2</td>\n",
       "      <td>2</td>\n",
       "      <td>111680,111681</td>\n",
       "      <td>202504050755_202504060755</td>\n",
       "    </tr>\n",
       "    <tr>\n",
       "      <th>1</th>\n",
       "      <td>36786</td>\n",
       "      <td>4</td>\n",
       "      <td>2</td>\n",
       "      <td>111680,111681</td>\n",
       "      <td>202504050755_202504060755</td>\n",
       "    </tr>\n",
       "    <tr>\n",
       "      <th>2</th>\n",
       "      <td>36786</td>\n",
       "      <td>5</td>\n",
       "      <td>2</td>\n",
       "      <td>111680,111681</td>\n",
       "      <td>202504050755_202504060755</td>\n",
       "    </tr>\n",
       "    <tr>\n",
       "      <th>3</th>\n",
       "      <td>36786</td>\n",
       "      <td>6</td>\n",
       "      <td>2</td>\n",
       "      <td>111680,111681</td>\n",
       "      <td>202504050755_202504060755</td>\n",
       "    </tr>\n",
       "    <tr>\n",
       "      <th>4</th>\n",
       "      <td>36786</td>\n",
       "      <td>20</td>\n",
       "      <td>2</td>\n",
       "      <td>111680,111681</td>\n",
       "      <td>202504050755_202504060755</td>\n",
       "    </tr>\n",
       "  </tbody>\n",
       "</table>\n",
       "</div>"
      ],
      "text/plain": [
       "   living_id  dep_id  market_scope   video_format                  dt_format\n",
       "0      36786       2             2  111680,111681  202504050755_202504060755\n",
       "1      36786       4             2  111680,111681  202504050755_202504060755\n",
       "2      36786       5             2  111680,111681  202504050755_202504060755\n",
       "3      36786       6             2  111680,111681  202504050755_202504060755\n",
       "4      36786      20             2  111680,111681  202504050755_202504060755"
      ]
     },
     "execution_count": 275,
     "metadata": {},
     "output_type": "execute_result"
    }
   ],
   "source": [
    "df_living_warmup.head(5)"
   ]
  },
  {
   "cell_type": "code",
   "execution_count": 284,
   "id": "7ba078f7-2c76-42f3-bb86-50abb2c6beea",
   "metadata": {
    "tags": []
   },
   "outputs": [],
   "source": [
    "# 预热过滤\n",
    "df_unionid_combind = df_unionid.merge(df_living_warmup,\n",
    "    left_on=['dep_id', 'shop_type', ],  \n",
    "    right_on=['dep_id', 'market_scope'],\n",
    "    how='left')"
   ]
  },
  {
   "cell_type": "code",
   "execution_count": 285,
   "id": "b1f60d4e-fd7f-4c3c-9199-ef0cbdcc68a5",
   "metadata": {
    "tags": []
   },
   "outputs": [
    {
     "name": "stderr",
     "output_type": "stream",
     "text": [
      "/usr/local/miniconda3/envs/jupyter_hub37/lib/python3.7/site-packages/ipykernel_launcher.py:2: SettingWithCopyWarning: \n",
      "A value is trying to be set on a copy of a slice from a DataFrame.\n",
      "Try using .loc[row_indexer,col_indexer] = value instead\n",
      "\n",
      "See the caveats in the documentation: https://pandas.pydata.org/pandas-docs/stable/user_guide/indexing.html#returning-a-view-versus-a-copy\n",
      "  \n",
      "/usr/local/miniconda3/envs/jupyter_hub37/lib/python3.7/site-packages/ipykernel_launcher.py:3: SettingWithCopyWarning: \n",
      "A value is trying to be set on a copy of a slice from a DataFrame.\n",
      "Try using .loc[row_indexer,col_indexer] = value instead\n",
      "\n",
      "See the caveats in the documentation: https://pandas.pydata.org/pandas-docs/stable/user_guide/indexing.html#returning-a-view-versus-a-copy\n",
      "  This is separate from the ipykernel package so we can avoid doing imports until\n",
      "/usr/local/miniconda3/envs/jupyter_hub37/lib/python3.7/site-packages/ipykernel_launcher.py:4: SettingWithCopyWarning: \n",
      "A value is trying to be set on a copy of a slice from a DataFrame.\n",
      "Try using .loc[row_indexer,col_indexer] = value instead\n",
      "\n",
      "See the caveats in the documentation: https://pandas.pydata.org/pandas-docs/stable/user_guide/indexing.html#returning-a-view-versus-a-copy\n",
      "  after removing the cwd from sys.path.\n"
     ]
    }
   ],
   "source": [
    "df_warmup_filter = df_unionid_combind.query('flag_warmup == 1 and video_format == video_format')\n",
    "df_warmup_filter['unionid_format'] = 'grouplive$' + df_warmup_filter['unionid'] + '$'\n",
    "df_warmup_filter['unionid_dt_format'] = df_warmup_filter['unionid_format'] + df_warmup_filter['dt_format']\n",
    "df_warmup_filter['unionid_dt_video_format'] = df_warmup_filter['video_format']"
   ]
  },
  {
   "cell_type": "code",
   "execution_count": 286,
   "id": "dd49784b-6587-49c9-a7d7-d098d6ca76c5",
   "metadata": {
    "tags": []
   },
   "outputs": [
    {
     "data": {
      "text/plain": [
       "(148539, 20)"
      ]
     },
     "execution_count": 286,
     "metadata": {},
     "output_type": "execute_result"
    }
   ],
   "source": [
    "df_warmup_filter.shape"
   ]
  },
  {
   "cell_type": "code",
   "execution_count": 199,
   "id": "73641309-ae09-4568-bdf8-08c502569384",
   "metadata": {
    "tags": []
   },
   "outputs": [
    {
     "name": "stdout",
     "output_type": "stream",
     "text": [
      "CPU times: user 1min 7s, sys: 571 ms, total: 1min 8s\n",
      "Wall time: 1min 30s\n"
     ]
    }
   ],
   "source": [
    "# %%time\n",
    "# import redis\n",
    "# from datetime import timedelta\n",
    "# BATCH_SIZE = 5000  # 每批次插入 1000 条数据\n",
    "# client = redis.StrictRedis(host='r-2ze7b3wslfewb38p0i.redis.rds.aliyuncs.com', port=6379, db=1, password='devops:jKvbe%zx54&P')\n",
    "# # 设置键的生命周期（TTL）\n",
    "# TTL = timedelta(days=2)  # 设置键的生命周期为 7 天\n",
    "\n",
    "# # 批次插入 key_map 和 key\n",
    "# def batch_insert_keymap(df, batch_size):\n",
    "#     pipeline = client.pipeline()\n",
    "#     for index, row in df[['unionid_format', 'unionid_dt_format']].iterrows():\n",
    "#         key = row['unionid_format']\n",
    "#         val = row['unionid_dt_format']\n",
    "#         pipeline.set(key, val, ex=TTL)  # 设置 TTL\n",
    "#         if (index + 1) % batch_size == 0:  # 每批次执行一次\n",
    "#             pipeline.execute()\n",
    "#             pipeline = client.pipeline()  # 重置 pipeline\n",
    "#     if len(pipeline) > 0:  # 处理剩余的记录\n",
    "#         pipeline.execute()\n",
    "\n",
    "# # 批次插入 key 和 val\n",
    "# def batch_insert_keyval(df, batch_size):\n",
    "#     pipeline = client.pipeline()\n",
    "#     for index, row in df[['unionid_dt_format', 'unionid_dt_video_format']].iterrows():\n",
    "#         key = row['unionid_dt_format']\n",
    "#         val = row['unionid_dt_video_format']\n",
    "#         pipeline.set(key, val, ex=TTL)  # 设置 TTL\n",
    "#         if (index + 1) % batch_size == 0:  # 每批次执行一次\n",
    "#             pipeline.execute()\n",
    "#             pipeline = client.pipeline()  # 重置 pipeline\n",
    "#     if len(pipeline) > 0:  # 处理剩余的记录\n",
    "#         pipeline.execute()\n",
    "\n",
    "# # 执行批次插入\n",
    "# batch_insert_keymap(df_warmup_filter, BATCH_SIZE)\n",
    "# batch_insert_keyval(df_warmup_filter, BATCH_SIZE)"
   ]
  },
  {
   "cell_type": "markdown",
   "id": "2e5673f7-8c03-4e95-8751-35d78d49471d",
   "metadata": {},
   "source": [
    "## 私聊"
   ]
  },
  {
   "cell_type": "code",
   "execution_count": 26,
   "id": "6eba176d-280e-40ce-91c9-262297d0a110",
   "metadata": {
    "tags": []
   },
   "outputs": [],
   "source": [
    "# # 无预热\n",
    "# df_combind = df_unionid.query('flag_chat == 1')\n",
    "# df_combind = df_combind.reset_index(drop=True)\n",
    "# df_living_expanded = pd.concat([df_living] * len(df_combind), ignore_index=True)\n",
    "# df_combind = pd.concat([df_combind, df_living_expanded], axis=1)"
   ]
  },
  {
   "cell_type": "code",
   "execution_count": 213,
   "id": "74f843a8-6414-4bb5-bdd6-1a104a5b227a",
   "metadata": {
    "tags": []
   },
   "outputs": [],
   "source": [
    "# 有预热\n",
    "df_combind = df_unionid_combind.query('flag_chat == 1')\n",
    "df_combind = df_combind.query('living_id == living_id')"
   ]
  },
  {
   "cell_type": "code",
   "execution_count": 217,
   "id": "275b17d3-b80c-47fd-a1fa-1d41e7dbc0c1",
   "metadata": {
    "tags": []
   },
   "outputs": [],
   "source": []
  },
  {
   "cell_type": "code",
   "execution_count": 218,
   "id": "8cd8554d-be3c-4564-8859-4543e2f3a194",
   "metadata": {
    "tags": []
   },
   "outputs": [
    {
     "data": {
      "text/plain": [
       "(441332, 17)"
      ]
     },
     "execution_count": 218,
     "metadata": {},
     "output_type": "execute_result"
    }
   ],
   "source": [
    "df_combind.shape"
   ]
  },
  {
   "cell_type": "code",
   "execution_count": 219,
   "id": "0480e184-30e0-47a9-a7b4-604e6fb55f2b",
   "metadata": {
    "tags": []
   },
   "outputs": [
    {
     "name": "stderr",
     "output_type": "stream",
     "text": [
      "/usr/local/miniconda3/envs/jupyter_hub37/lib/python3.7/site-packages/ipykernel_launcher.py:16: SettingWithCopyWarning: \n",
      "A value is trying to be set on a copy of a slice from a DataFrame.\n",
      "Try using .loc[row_indexer,col_indexer] = value instead\n",
      "\n",
      "See the caveats in the documentation: https://pandas.pydata.org/pandas-docs/stable/user_guide/indexing.html#returning-a-view-versus-a-copy\n",
      "  app.launch_new_instance()\n"
     ]
    }
   ],
   "source": [
    "\n",
    "## 合并为json content\n",
    "def merge_text_and_picture(row):\n",
    "    return [\n",
    "        {\n",
    "            \"type\": \"text\",\n",
    "            \"value\": \n",
    "            '''激动的心，颤抖的手，人康好物在招手！早8点，锁定人康直播间，高品质配优价格，千万别错过！'''\n",
    "        },\n",
    "        {\n",
    "            \"type\": \"ext\",\n",
    "            \"value\": \"\"\n",
    "        }\n",
    "    ]\n",
    "# 应用函数并创建新列\n",
    "df_combind['content'] = df_combind.apply(merge_text_and_picture, axis=1)\n",
    "df_combind = df_combind.rename(columns={\n",
    "    'living_id': 'living_id',\n",
    "    'invitor_userid': 'send_user_id',\n",
    "    'unionid': 'union_id',\n",
    "    'content': 'content',\n",
    "    # 'living_start': 'send_time',\n",
    "    'prob_rank': 'prob_rank'\n",
    "})\n",
    "df_combind['send_time'] = pd.to_datetime(f'{living_dt} 07:00:00')\n",
    "df_combind = df_combind[['living_id', 'send_user_id', 'union_id', 'content', 'send_time', 'prob_rank']]\n",
    "df_combind['content'] = df_combind['content'].apply(lambda x: str(x))\n",
    "df_combind['prob_rank'] = df_combind['prob_rank'].fillna(0)"
   ]
  },
  {
   "cell_type": "code",
   "execution_count": 207,
   "id": "5ce48569-2470-4ceb-8723-4d155858c1a4",
   "metadata": {
    "tags": []
   },
   "outputs": [
    {
     "data": {
      "text/html": [
       "<div>\n",
       "<style scoped>\n",
       "    .dataframe tbody tr th:only-of-type {\n",
       "        vertical-align: middle;\n",
       "    }\n",
       "\n",
       "    .dataframe tbody tr th {\n",
       "        vertical-align: top;\n",
       "    }\n",
       "\n",
       "    .dataframe thead th {\n",
       "        text-align: right;\n",
       "    }\n",
       "</style>\n",
       "<table border=\"1\" class=\"dataframe\">\n",
       "  <thead>\n",
       "    <tr style=\"text-align: right;\">\n",
       "      <th></th>\n",
       "      <th>living_id</th>\n",
       "      <th>send_user_id</th>\n",
       "      <th>union_id</th>\n",
       "      <th>content</th>\n",
       "      <th>send_time</th>\n",
       "      <th>prob_rank</th>\n",
       "    </tr>\n",
       "  </thead>\n",
       "  <tbody>\n",
       "    <tr>\n",
       "      <th>6</th>\n",
       "      <td>36783.0</td>\n",
       "      <td>zhanghongbo_t55y</td>\n",
       "      <td>oPN705-gL2onejYdvbL1ZcXKTYuQ</td>\n",
       "      <td>[{'type': 'text', 'value': '激动的心，颤抖的手，人康好物在招手！...</td>\n",
       "      <td>2025-04-04 07:00:00</td>\n",
       "      <td>91.0</td>\n",
       "    </tr>\n",
       "  </tbody>\n",
       "</table>\n",
       "</div>"
      ],
      "text/plain": [
       "   living_id      send_user_id                      union_id  \\\n",
       "6    36783.0  zhanghongbo_t55y  oPN705-gL2onejYdvbL1ZcXKTYuQ   \n",
       "\n",
       "                                             content           send_time  \\\n",
       "6  [{'type': 'text', 'value': '激动的心，颤抖的手，人康好物在招手！... 2025-04-04 07:00:00   \n",
       "\n",
       "   prob_rank  \n",
       "6       91.0  "
      ]
     },
     "execution_count": 207,
     "metadata": {},
     "output_type": "execute_result"
    }
   ],
   "source": [
    "df_combind.head(1)"
   ]
  },
  {
   "cell_type": "code",
   "execution_count": 220,
   "id": "336c9019-d7da-4415-8c68-2bf7497e3944",
   "metadata": {
    "tags": []
   },
   "outputs": [
    {
     "name": "stdout",
     "output_type": "stream",
     "text": [
      "插入mysql生产_分层成功 (441332, 6)\n"
     ]
    }
   ],
   "source": [
    "# # 线上环境\n",
    "connection = pymysql.connect(\n",
    "    host='pc-2ze5hgvv9n4uic10t.rwlb.rds.aliyuncs.com',  # 使用 url 中的主机地址\n",
    "    port=3306,  # 默认 MySQL 端口\n",
    "    user='market',  # 使用 username\n",
    "    password='market@123',  # 使用 password\n",
    "    database='market_brain',  # 数据库名称\n",
    ")\n",
    "cursor = connection.cursor()\n",
    "cursor.execute(f\"TRUNCATE TABLE market_task_live_rec\")\n",
    "sql = \"INSERT INTO market_task_live_rec (living_id,send_user_id,union_id,content,send_time,prob_rank) VALUES (%s, %s, %s, %s, %s, %s)\"\n",
    "data = [tuple(x) for x in df_combind.values]\n",
    "cursor.executemany(sql, data)\n",
    "connection.commit()\n",
    "cursor.close()\n",
    "connection.close()\n",
    "print(\"插入mysql生产_分层成功\",df_combind.shape)"
   ]
  },
  {
   "cell_type": "code",
   "execution_count": 221,
   "id": "de268130-c7d9-49d6-9232-fbd150848528",
   "metadata": {
    "tags": []
   },
   "outputs": [
    {
     "name": "stdout",
     "output_type": "stream",
     "text": [
      "请求成功！\n"
     ]
    }
   ],
   "source": [
    "# import requests\n",
    "\n",
    "# # 测试环境 URL\n",
    "# test_url = \"https://teststate.renruikeji.cn/api/marketbrain/sop/job/liveRecDataReady\"\n",
    "\n",
    "# # 生产环境 URL\n",
    "# prod_url = \"https://state.renruikeji.cn/api/marketbrain/sop/job/liveRecDataReady\"\n",
    "\n",
    "# # 选择环境（测试或生产）\n",
    "# url = prod_url  # 或者 prod_url\n",
    "\n",
    "# # 发送 GET 请求\n",
    "# response = requests.get(url)\n",
    "\n",
    "# # 检查响应状态码\n",
    "# if response.status_code == 200:\n",
    "#     print(\"请求成功！\")\n",
    "#     # print(\"响应内容：\", response.json())  # 如果返回的是 JSON 数据\n",
    "# else:\n",
    "#     print(f\"请求失败，状态码：{response.status_code}\")\n",
    "#     # print(\"错误信息：\", response.text)"
   ]
  }
 ],
 "metadata": {
  "kernelspec": {
   "display_name": "Python 3",
   "language": "python",
   "name": "python3"
  },
  "language_info": {
   "codemirror_mode": {
    "name": "ipython",
    "version": 3
   },
   "file_extension": ".py",
   "mimetype": "text/x-python",
   "name": "python",
   "nbconvert_exporter": "python",
   "pygments_lexer": "ipython3",
   "version": "3.7.1"
  }
 },
 "nbformat": 4,
 "nbformat_minor": 5
}
